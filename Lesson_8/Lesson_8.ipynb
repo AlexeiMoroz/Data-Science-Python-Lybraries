{
 "cells": [
  {
   "cell_type": "code",
   "execution_count": 29,
   "id": "a006c588",
   "metadata": {},
   "outputs": [],
   "source": [
    "import numpy as np\n",
    "import pandas as pd\n",
    "from matplotlib import pyplot as plt\n",
    "from sklearn.datasets import load_boston\n",
    "from sklearn.model_selection import train_test_split\n",
    "from sklearn.preprocessing import StandardScaler\n",
    "from sklearn.manifold import TSNE\n",
    "from sklearn.cluster import KMeans"
   ]
  },
  {
   "cell_type": "code",
   "execution_count": 2,
   "id": "01595f64",
   "metadata": {},
   "outputs": [],
   "source": [
    "boston = load_boston()"
   ]
  },
  {
   "cell_type": "code",
   "execution_count": 7,
   "id": "6065d5d4",
   "metadata": {},
   "outputs": [
    {
     "data": {
      "text/plain": [
       "array(['CRIM', 'ZN', 'INDUS', 'CHAS', 'NOX', 'RM', 'AGE', 'DIS', 'RAD',\n",
       "       'TAX', 'PTRATIO', 'B', 'LSTAT'], dtype='<U7')"
      ]
     },
     "execution_count": 7,
     "metadata": {},
     "output_type": "execute_result"
    }
   ],
   "source": [
    "boston['feature_names']"
   ]
  },
  {
   "cell_type": "code",
   "execution_count": 66,
   "id": "8b2d8d5a",
   "metadata": {},
   "outputs": [],
   "source": [
    "data = boston[\"data\"]\n",
    "feature_names = boston[\"feature_names\"]\n",
    "target = boston.target\n",
    "X = pd.DataFrame(data, columns = feature_names)\n",
    "y = pd.DataFrame(target, columns=[\"price\"])"
   ]
  },
  {
   "cell_type": "code",
   "execution_count": 15,
   "id": "25545681",
   "metadata": {
    "scrolled": true
   },
   "outputs": [],
   "source": [
    "X_train, X_test, y_train, y_test = train_test_split(X, y, test_size = 0.2, random_state = 42)"
   ]
  },
  {
   "cell_type": "code",
   "execution_count": 99,
   "id": "76c93f95",
   "metadata": {},
   "outputs": [
    {
     "data": {
      "text/html": [
       "<div>\n",
       "<style scoped>\n",
       "    .dataframe tbody tr th:only-of-type {\n",
       "        vertical-align: middle;\n",
       "    }\n",
       "\n",
       "    .dataframe tbody tr th {\n",
       "        vertical-align: top;\n",
       "    }\n",
       "\n",
       "    .dataframe thead th {\n",
       "        text-align: right;\n",
       "    }\n",
       "</style>\n",
       "<table border=\"1\" class=\"dataframe\">\n",
       "  <thead>\n",
       "    <tr style=\"text-align: right;\">\n",
       "      <th></th>\n",
       "      <th>CRIM</th>\n",
       "      <th>ZN</th>\n",
       "      <th>INDUS</th>\n",
       "      <th>CHAS</th>\n",
       "      <th>NOX</th>\n",
       "      <th>RM</th>\n",
       "      <th>AGE</th>\n",
       "      <th>DIS</th>\n",
       "      <th>RAD</th>\n",
       "      <th>TAX</th>\n",
       "      <th>PTRATIO</th>\n",
       "      <th>B</th>\n",
       "      <th>LSTAT</th>\n",
       "    </tr>\n",
       "  </thead>\n",
       "  <tbody>\n",
       "    <tr>\n",
       "      <th>0</th>\n",
       "      <td>-0.396809</td>\n",
       "      <td>-0.500320</td>\n",
       "      <td>-1.007111</td>\n",
       "      <td>-0.278089</td>\n",
       "      <td>-0.395412</td>\n",
       "      <td>0.141282</td>\n",
       "      <td>0.555916</td>\n",
       "      <td>-0.545853</td>\n",
       "      <td>-0.507797</td>\n",
       "      <td>-0.650926</td>\n",
       "      <td>-0.771951</td>\n",
       "      <td>0.428872</td>\n",
       "      <td>-0.481210</td>\n",
       "    </tr>\n",
       "    <tr>\n",
       "      <th>1</th>\n",
       "      <td>-0.400796</td>\n",
       "      <td>1.229499</td>\n",
       "      <td>-0.664391</td>\n",
       "      <td>3.595975</td>\n",
       "      <td>-0.931315</td>\n",
       "      <td>0.623942</td>\n",
       "      <td>-1.275254</td>\n",
       "      <td>0.126565</td>\n",
       "      <td>-0.624360</td>\n",
       "      <td>-0.903989</td>\n",
       "      <td>-0.322703</td>\n",
       "      <td>0.444180</td>\n",
       "      <td>-1.257094</td>\n",
       "    </tr>\n",
       "    <tr>\n",
       "      <th>2</th>\n",
       "      <td>-0.395234</td>\n",
       "      <td>-0.500320</td>\n",
       "      <td>2.433163</td>\n",
       "      <td>-0.278089</td>\n",
       "      <td>0.446720</td>\n",
       "      <td>-0.469805</td>\n",
       "      <td>1.081663</td>\n",
       "      <td>-0.911447</td>\n",
       "      <td>-0.624360</td>\n",
       "      <td>1.849573</td>\n",
       "      <td>0.800418</td>\n",
       "      <td>0.369934</td>\n",
       "      <td>0.790338</td>\n",
       "    </tr>\n",
       "    <tr>\n",
       "      <th>3</th>\n",
       "      <td>-0.396825</td>\n",
       "      <td>-0.500320</td>\n",
       "      <td>-0.025421</td>\n",
       "      <td>-0.278089</td>\n",
       "      <td>-1.220532</td>\n",
       "      <td>-0.354079</td>\n",
       "      <td>-2.172957</td>\n",
       "      <td>0.694876</td>\n",
       "      <td>-0.624360</td>\n",
       "      <td>-0.596698</td>\n",
       "      <td>0.396095</td>\n",
       "      <td>0.378682</td>\n",
       "      <td>-0.976875</td>\n",
       "    </tr>\n",
       "    <tr>\n",
       "      <th>4</th>\n",
       "      <td>0.167084</td>\n",
       "      <td>-0.500320</td>\n",
       "      <td>1.033237</td>\n",
       "      <td>-0.278089</td>\n",
       "      <td>1.331384</td>\n",
       "      <td>-0.026661</td>\n",
       "      <td>0.831307</td>\n",
       "      <td>-0.676503</td>\n",
       "      <td>1.706891</td>\n",
       "      <td>1.578434</td>\n",
       "      <td>0.845343</td>\n",
       "      <td>0.315043</td>\n",
       "      <td>0.677687</td>\n",
       "    </tr>\n",
       "    <tr>\n",
       "      <th>...</th>\n",
       "      <td>...</td>\n",
       "      <td>...</td>\n",
       "      <td>...</td>\n",
       "      <td>...</td>\n",
       "      <td>...</td>\n",
       "      <td>...</td>\n",
       "      <td>...</td>\n",
       "      <td>...</td>\n",
       "      <td>...</td>\n",
       "      <td>...</td>\n",
       "      <td>...</td>\n",
       "      <td>...</td>\n",
       "      <td>...</td>\n",
       "    </tr>\n",
       "    <tr>\n",
       "      <th>97</th>\n",
       "      <td>1.715000</td>\n",
       "      <td>-0.500320</td>\n",
       "      <td>1.033237</td>\n",
       "      <td>-0.278089</td>\n",
       "      <td>0.344643</td>\n",
       "      <td>-2.382098</td>\n",
       "      <td>1.124581</td>\n",
       "      <td>-1.059057</td>\n",
       "      <td>1.706891</td>\n",
       "      <td>1.578434</td>\n",
       "      <td>0.845343</td>\n",
       "      <td>-3.580942</td>\n",
       "      <td>3.085604</td>\n",
       "    </tr>\n",
       "    <tr>\n",
       "      <th>98</th>\n",
       "      <td>1.219719</td>\n",
       "      <td>-0.500320</td>\n",
       "      <td>1.033237</td>\n",
       "      <td>-0.278089</td>\n",
       "      <td>1.561057</td>\n",
       "      <td>0.204790</td>\n",
       "      <td>0.884955</td>\n",
       "      <td>-0.848260</td>\n",
       "      <td>1.706891</td>\n",
       "      <td>1.578434</td>\n",
       "      <td>0.845343</td>\n",
       "      <td>-3.595156</td>\n",
       "      <td>0.787522</td>\n",
       "    </tr>\n",
       "    <tr>\n",
       "      <th>99</th>\n",
       "      <td>1.177967</td>\n",
       "      <td>-0.500320</td>\n",
       "      <td>1.033237</td>\n",
       "      <td>-0.278089</td>\n",
       "      <td>0.344643</td>\n",
       "      <td>0.481403</td>\n",
       "      <td>1.124581</td>\n",
       "      <td>-1.071460</td>\n",
       "      <td>1.706891</td>\n",
       "      <td>1.578434</td>\n",
       "      <td>0.845343</td>\n",
       "      <td>-3.512491</td>\n",
       "      <td>1.233902</td>\n",
       "    </tr>\n",
       "    <tr>\n",
       "      <th>100</th>\n",
       "      <td>-0.401311</td>\n",
       "      <td>-0.500320</td>\n",
       "      <td>-0.943214</td>\n",
       "      <td>-0.278089</td>\n",
       "      <td>-0.914302</td>\n",
       "      <td>-0.424644</td>\n",
       "      <td>-0.838921</td>\n",
       "      <td>0.290806</td>\n",
       "      <td>-0.740922</td>\n",
       "      <td>-0.946166</td>\n",
       "      <td>0.081621</td>\n",
       "      <td>0.434230</td>\n",
       "      <td>0.056698</td>\n",
       "    </tr>\n",
       "    <tr>\n",
       "      <th>101</th>\n",
       "      <td>-0.396433</td>\n",
       "      <td>-0.500320</td>\n",
       "      <td>0.267925</td>\n",
       "      <td>-0.278089</td>\n",
       "      <td>-1.016379</td>\n",
       "      <td>-0.042185</td>\n",
       "      <td>-0.842497</td>\n",
       "      <td>0.326228</td>\n",
       "      <td>-0.507797</td>\n",
       "      <td>-0.036346</td>\n",
       "      <td>0.171470</td>\n",
       "      <td>0.294705</td>\n",
       "      <td>-0.495292</td>\n",
       "    </tr>\n",
       "  </tbody>\n",
       "</table>\n",
       "<p>102 rows × 13 columns</p>\n",
       "</div>"
      ],
      "text/plain": [
       "         CRIM        ZN     INDUS      CHAS       NOX        RM       AGE  \\\n",
       "0   -0.396809 -0.500320 -1.007111 -0.278089 -0.395412  0.141282  0.555916   \n",
       "1   -0.400796  1.229499 -0.664391  3.595975 -0.931315  0.623942 -1.275254   \n",
       "2   -0.395234 -0.500320  2.433163 -0.278089  0.446720 -0.469805  1.081663   \n",
       "3   -0.396825 -0.500320 -0.025421 -0.278089 -1.220532 -0.354079 -2.172957   \n",
       "4    0.167084 -0.500320  1.033237 -0.278089  1.331384 -0.026661  0.831307   \n",
       "..        ...       ...       ...       ...       ...       ...       ...   \n",
       "97   1.715000 -0.500320  1.033237 -0.278089  0.344643 -2.382098  1.124581   \n",
       "98   1.219719 -0.500320  1.033237 -0.278089  1.561057  0.204790  0.884955   \n",
       "99   1.177967 -0.500320  1.033237 -0.278089  0.344643  0.481403  1.124581   \n",
       "100 -0.401311 -0.500320 -0.943214 -0.278089 -0.914302 -0.424644 -0.838921   \n",
       "101 -0.396433 -0.500320  0.267925 -0.278089 -1.016379 -0.042185 -0.842497   \n",
       "\n",
       "          DIS       RAD       TAX   PTRATIO         B     LSTAT  \n",
       "0   -0.545853 -0.507797 -0.650926 -0.771951  0.428872 -0.481210  \n",
       "1    0.126565 -0.624360 -0.903989 -0.322703  0.444180 -1.257094  \n",
       "2   -0.911447 -0.624360  1.849573  0.800418  0.369934  0.790338  \n",
       "3    0.694876 -0.624360 -0.596698  0.396095  0.378682 -0.976875  \n",
       "4   -0.676503  1.706891  1.578434  0.845343  0.315043  0.677687  \n",
       "..        ...       ...       ...       ...       ...       ...  \n",
       "97  -1.059057  1.706891  1.578434  0.845343 -3.580942  3.085604  \n",
       "98  -0.848260  1.706891  1.578434  0.845343 -3.595156  0.787522  \n",
       "99  -1.071460  1.706891  1.578434  0.845343 -3.512491  1.233902  \n",
       "100  0.290806 -0.740922 -0.946166  0.081621  0.434230  0.056698  \n",
       "101  0.326228 -0.507797 -0.036346  0.171470  0.294705 -0.495292  \n",
       "\n",
       "[102 rows x 13 columns]"
      ]
     },
     "execution_count": 99,
     "metadata": {},
     "output_type": "execute_result"
    }
   ],
   "source": [
    "scaler = StandardScaler()\n",
    "X_train_scaled = pd.DataFrame(scaler.fit_transform(X_train), columns = X_train.columns)\n",
    "X_test_scaled = pd.DataFrame(scaler.transform(X_test), columns=X_test.columns)\n",
    "X_test_scaled"
   ]
  },
  {
   "cell_type": "code",
   "execution_count": 134,
   "id": "de86586d",
   "metadata": {
    "scrolled": true
   },
   "outputs": [],
   "source": [
    "tsne = TSNE(n_components = 2, learning_rate = 250, random_state = 42)"
   ]
  },
  {
   "cell_type": "code",
   "execution_count": 152,
   "id": "40d88530",
   "metadata": {},
   "outputs": [
    {
     "name": "stdout",
     "output_type": "stream",
     "text": [
      "До:\t(404, 13)\n",
      "После:\t(404, 2)\n"
     ]
    }
   ],
   "source": [
    "X_train_tsne = tsne.fit_transform(X_train_scaled)\n",
    "\n",
    "print('До:\\t{}'.format(X_train_scaled.shape))\n",
    "print('После:\\t{}'.format(X_train_tsne.shape))"
   ]
  },
  {
   "cell_type": "code",
   "execution_count": 137,
   "id": "22db4652",
   "metadata": {
    "scrolled": false
   },
   "outputs": [
    {
     "data": {
      "image/png": "[encoded data removed]",
      "text/plain": [
       "<Figure size 432x288 with 1 Axes>"
      ]
     },
     "metadata": {
      "needs_background": "light"
     },
     "output_type": "display_data"
    }
   ],
   "source": []
  },
  {
   "cell_type": "code",
   "execution_count": 147,
   "id": "7041a1f1",
   "metadata": {},
   "outputs": [
    {
     "data": {
      "text/plain": [
       "<mpl_toolkits.mplot3d.art3d.Path3DCollection at 0xdf91eb0>"
      ]
     },
     "execution_count": 147,
     "metadata": {},
     "output_type": "execute_result"
    },
    {
     "data": {
      "image/png": "[encoded data removed]",
      "text/plain": [
       "<Figure size 432x288 with 1 Axes>"
      ]
     },
     "metadata": {
      "needs_background": "light"
     },
     "output_type": "display_data"
    }
   ],
   "source": [
    "import warnings\n",
    "warnings.filterwarnings(\"ignore\", category=RuntimeWarning) \n",
    "tsne3 = TSNE(n_components = 3, learning_rate = 250, random_state = 42)\n",
    "X_train_tsne = tsne3.fit_transform(X_train_scaled)\n",
    "fig = plt.figure()\n",
    "ax = fig.add_subplot(111, projection='3d')\n",
    "ax.scatter(X_train_tsne[:, 0], X_train_tsne[:, 1], X_train_tsne[:, 2], s = y)\n"
   ]
  },
  {
   "cell_type": "code",
   "execution_count": 148,
   "id": "b612e11f",
   "metadata": {},
   "outputs": [
    {
     "data": {
      "text/html": [
       "<div>\n",
       "<style scoped>\n",
       "    .dataframe tbody tr th:only-of-type {\n",
       "        vertical-align: middle;\n",
       "    }\n",
       "\n",
       "    .dataframe tbody tr th {\n",
       "        vertical-align: top;\n",
       "    }\n",
       "\n",
       "    .dataframe thead th {\n",
       "        text-align: right;\n",
       "    }\n",
       "</style>\n",
       "<table border=\"1\" class=\"dataframe\">\n",
       "  <thead>\n",
       "    <tr style=\"text-align: right;\">\n",
       "      <th></th>\n",
       "      <th>CRIM</th>\n",
       "      <th>ZN</th>\n",
       "      <th>INDUS</th>\n",
       "      <th>CHAS</th>\n",
       "      <th>NOX</th>\n",
       "      <th>RM</th>\n",
       "      <th>AGE</th>\n",
       "      <th>DIS</th>\n",
       "      <th>RAD</th>\n",
       "      <th>TAX</th>\n",
       "      <th>PTRATIO</th>\n",
       "      <th>B</th>\n",
       "      <th>LSTAT</th>\n",
       "    </tr>\n",
       "  </thead>\n",
       "  <tbody>\n",
       "    <tr>\n",
       "      <th>0</th>\n",
       "      <td>1.287702</td>\n",
       "      <td>-0.500320</td>\n",
       "      <td>1.033237</td>\n",
       "      <td>-0.278089</td>\n",
       "      <td>0.489252</td>\n",
       "      <td>-1.428069</td>\n",
       "      <td>1.028015</td>\n",
       "      <td>-0.802173</td>\n",
       "      <td>1.706891</td>\n",
       "      <td>1.578434</td>\n",
       "      <td>0.845343</td>\n",
       "      <td>-0.074337</td>\n",
       "      <td>1.753505</td>\n",
       "    </tr>\n",
       "    <tr>\n",
       "      <th>1</th>\n",
       "      <td>-0.336384</td>\n",
       "      <td>-0.500320</td>\n",
       "      <td>-0.413160</td>\n",
       "      <td>-0.278089</td>\n",
       "      <td>-0.157233</td>\n",
       "      <td>-0.680087</td>\n",
       "      <td>-0.431199</td>\n",
       "      <td>0.324349</td>\n",
       "      <td>-0.624360</td>\n",
       "      <td>-0.584648</td>\n",
       "      <td>1.204741</td>\n",
       "      <td>0.430184</td>\n",
       "      <td>-0.561474</td>\n",
       "    </tr>\n",
       "    <tr>\n",
       "      <th>2</th>\n",
       "      <td>-0.403253</td>\n",
       "      <td>1.013271</td>\n",
       "      <td>-0.715218</td>\n",
       "      <td>-0.278089</td>\n",
       "      <td>-1.008723</td>\n",
       "      <td>-0.402063</td>\n",
       "      <td>-1.618599</td>\n",
       "      <td>1.330697</td>\n",
       "      <td>-0.974048</td>\n",
       "      <td>-0.602724</td>\n",
       "      <td>-0.637176</td>\n",
       "      <td>0.065297</td>\n",
       "      <td>-0.651595</td>\n",
       "    </tr>\n",
       "    <tr>\n",
       "      <th>3</th>\n",
       "      <td>0.388230</td>\n",
       "      <td>-0.500320</td>\n",
       "      <td>1.033237</td>\n",
       "      <td>-0.278089</td>\n",
       "      <td>0.489252</td>\n",
       "      <td>-0.300450</td>\n",
       "      <td>0.591681</td>\n",
       "      <td>-0.839240</td>\n",
       "      <td>1.706891</td>\n",
       "      <td>1.578434</td>\n",
       "      <td>0.845343</td>\n",
       "      <td>-3.868193</td>\n",
       "      <td>1.525387</td>\n",
       "    </tr>\n",
       "    <tr>\n",
       "      <th>4</th>\n",
       "      <td>-0.325282</td>\n",
       "      <td>-0.500320</td>\n",
       "      <td>-0.413160</td>\n",
       "      <td>-0.278089</td>\n",
       "      <td>-0.157233</td>\n",
       "      <td>-0.831094</td>\n",
       "      <td>0.033747</td>\n",
       "      <td>-0.005494</td>\n",
       "      <td>-0.624360</td>\n",
       "      <td>-0.584648</td>\n",
       "      <td>1.204741</td>\n",
       "      <td>0.379119</td>\n",
       "      <td>-0.165787</td>\n",
       "    </tr>\n",
       "    <tr>\n",
       "      <th>...</th>\n",
       "      <td>...</td>\n",
       "      <td>...</td>\n",
       "      <td>...</td>\n",
       "      <td>...</td>\n",
       "      <td>...</td>\n",
       "      <td>...</td>\n",
       "      <td>...</td>\n",
       "      <td>...</td>\n",
       "      <td>...</td>\n",
       "      <td>...</td>\n",
       "      <td>...</td>\n",
       "      <td>...</td>\n",
       "      <td>...</td>\n",
       "    </tr>\n",
       "    <tr>\n",
       "      <th>399</th>\n",
       "      <td>-0.387850</td>\n",
       "      <td>-0.500320</td>\n",
       "      <td>-0.352167</td>\n",
       "      <td>-0.278089</td>\n",
       "      <td>-0.310348</td>\n",
       "      <td>-0.677264</td>\n",
       "      <td>0.834884</td>\n",
       "      <td>-0.750355</td>\n",
       "      <td>-0.507797</td>\n",
       "      <td>-0.120700</td>\n",
       "      <td>1.159817</td>\n",
       "      <td>0.430731</td>\n",
       "      <td>0.873419</td>\n",
       "    </tr>\n",
       "    <tr>\n",
       "      <th>400</th>\n",
       "      <td>-0.373414</td>\n",
       "      <td>0.364589</td>\n",
       "      <td>-0.584520</td>\n",
       "      <td>-0.278089</td>\n",
       "      <td>-0.786706</td>\n",
       "      <td>-0.649038</td>\n",
       "      <td>-0.946216</td>\n",
       "      <td>0.291651</td>\n",
       "      <td>-0.740922</td>\n",
       "      <td>-1.090773</td>\n",
       "      <td>0.126546</td>\n",
       "      <td>0.353970</td>\n",
       "      <td>0.076412</td>\n",
       "    </tr>\n",
       "    <tr>\n",
       "      <th>401</th>\n",
       "      <td>-0.405470</td>\n",
       "      <td>2.959318</td>\n",
       "      <td>-1.303361</td>\n",
       "      <td>-0.278089</td>\n",
       "      <td>-1.033391</td>\n",
       "      <td>0.450354</td>\n",
       "      <td>-1.389703</td>\n",
       "      <td>2.130899</td>\n",
       "      <td>-0.624360</td>\n",
       "      <td>-0.747331</td>\n",
       "      <td>-0.592251</td>\n",
       "      <td>0.379010</td>\n",
       "      <td>-0.910692</td>\n",
       "    </tr>\n",
       "    <tr>\n",
       "      <th>402</th>\n",
       "      <td>0.851897</td>\n",
       "      <td>-0.500320</td>\n",
       "      <td>1.033237</td>\n",
       "      <td>-0.278089</td>\n",
       "      <td>1.561057</td>\n",
       "      <td>0.441886</td>\n",
       "      <td>0.931450</td>\n",
       "      <td>-0.790898</td>\n",
       "      <td>1.706891</td>\n",
       "      <td>1.578434</td>\n",
       "      <td>0.845343</td>\n",
       "      <td>-2.694586</td>\n",
       "      <td>1.522570</td>\n",
       "    </tr>\n",
       "    <tr>\n",
       "      <th>403</th>\n",
       "      <td>-0.381356</td>\n",
       "      <td>-0.500320</td>\n",
       "      <td>-0.352167</td>\n",
       "      <td>-0.278089</td>\n",
       "      <td>-0.310348</td>\n",
       "      <td>0.125758</td>\n",
       "      <td>0.602411</td>\n",
       "      <td>-0.513719</td>\n",
       "      <td>-0.507797</td>\n",
       "      <td>-0.120700</td>\n",
       "      <td>1.159817</td>\n",
       "      <td>-3.121581</td>\n",
       "      <td>-0.257316</td>\n",
       "    </tr>\n",
       "  </tbody>\n",
       "</table>\n",
       "<p>404 rows × 13 columns</p>\n",
       "</div>"
      ],
      "text/plain": [
       "         CRIM        ZN     INDUS      CHAS       NOX        RM       AGE  \\\n",
       "0    1.287702 -0.500320  1.033237 -0.278089  0.489252 -1.428069  1.028015   \n",
       "1   -0.336384 -0.500320 -0.413160 -0.278089 -0.157233 -0.680087 -0.431199   \n",
       "2   -0.403253  1.013271 -0.715218 -0.278089 -1.008723 -0.402063 -1.618599   \n",
       "3    0.388230 -0.500320  1.033237 -0.278089  0.489252 -0.300450  0.591681   \n",
       "4   -0.325282 -0.500320 -0.413160 -0.278089 -0.157233 -0.831094  0.033747   \n",
       "..        ...       ...       ...       ...       ...       ...       ...   \n",
       "399 -0.387850 -0.500320 -0.352167 -0.278089 -0.310348 -0.677264  0.834884   \n",
       "400 -0.373414  0.364589 -0.584520 -0.278089 -0.786706 -0.649038 -0.946216   \n",
       "401 -0.405470  2.959318 -1.303361 -0.278089 -1.033391  0.450354 -1.389703   \n",
       "402  0.851897 -0.500320  1.033237 -0.278089  1.561057  0.441886  0.931450   \n",
       "403 -0.381356 -0.500320 -0.352167 -0.278089 -0.310348  0.125758  0.602411   \n",
       "\n",
       "          DIS       RAD       TAX   PTRATIO         B     LSTAT  \n",
       "0   -0.802173  1.706891  1.578434  0.845343 -0.074337  1.753505  \n",
       "1    0.324349 -0.624360 -0.584648  1.204741  0.430184 -0.561474  \n",
       "2    1.330697 -0.974048 -0.602724 -0.637176  0.065297 -0.651595  \n",
       "3   -0.839240  1.706891  1.578434  0.845343 -3.868193  1.525387  \n",
       "4   -0.005494 -0.624360 -0.584648  1.204741  0.379119 -0.165787  \n",
       "..        ...       ...       ...       ...       ...       ...  \n",
       "399 -0.750355 -0.507797 -0.120700  1.159817  0.430731  0.873419  \n",
       "400  0.291651 -0.740922 -1.090773  0.126546  0.353970  0.076412  \n",
       "401  2.130899 -0.624360 -0.747331 -0.592251  0.379010 -0.910692  \n",
       "402 -0.790898  1.706891  1.578434  0.845343 -2.694586  1.522570  \n",
       "403 -0.513719 -0.507797 -0.120700  1.159817 -3.121581 -0.257316  \n",
       "\n",
       "[404 rows x 13 columns]"
      ]
     },
     "execution_count": 148,
     "metadata": {},
     "output_type": "execute_result"
    }
   ],
   "source": [
    "X_train_scaled\n"
   ]
  },
  {
   "cell_type": "code",
   "execution_count": 155,
   "id": "b68cf59b",
   "metadata": {},
   "outputs": [
    {
     "data": {
      "image/png": "[encoded data removed]",
      "text/plain": [
       "<Figure size 432x288 with 1 Axes>"
      ]
     },
     "metadata": {
      "needs_background": "light"
     },
     "output_type": "display_data"
    }
   ],
   "source": [
    "kmeans = KMeans(n_clusters = 3, max_iter = 100, random_state = 42)\n",
    "labels_train = kmeans.fit_predict(X_train_scaled)\n",
    "fig = plt.figure()\n",
    "ax = fig.add_subplot()\n",
    "ax.scatter(X_train_tsne[:, 0], X_train_tsne[:, 1], c = labels_train, s = y)\n",
    "plt.show()"
   ]
  },
  {
   "cell_type": "code",
   "execution_count": 156,
   "id": "36b38c60",
   "metadata": {},
   "outputs": [
    {
     "data": {
      "text/plain": [
       "2820.517707291972"
      ]
     },
     "execution_count": 156,
     "metadata": {},
     "output_type": "execute_result"
    }
   ],
   "source": [
    "kmeans.inertia_"
   ]
  },
  {
   "cell_type": "code",
   "execution_count": 157,
   "id": "f93439e8",
   "metadata": {},
   "outputs": [
    {
     "data": {
      "image/png": "[encoded data removed]",
      "text/plain": [
       "<Figure size 432x288 with 1 Axes>"
      ]
     },
     "metadata": {
      "needs_background": "light"
     },
     "output_type": "display_data"
    }
   ],
   "source": [
    "inertias = []\n",
    "\n",
    "for i in range(2, 20):\n",
    "    temp_model = KMeans(n_clusters = i, random_state = 100)\n",
    "    temp_model.fit(X_train_scaled)\n",
    "    \n",
    "    temp_inertia = temp_model.inertia_\n",
    "    \n",
    "    inertias.append(temp_inertia)\n",
    "\n",
    "plt.plot(range(2, 20), inertias)\n",
    "\n",
    "plt.title('Inertia')\n",
    "\n",
    "plt.show()"
   ]
  },
  {
   "cell_type": "code",
   "execution_count": 94,
   "id": "a09293b4",
   "metadata": {
    "scrolled": true
   },
   "outputs": [
    {
     "data": {
      "text/plain": [
       "price    22.796535\n",
       "dtype: float64"
      ]
     },
     "execution_count": 94,
     "metadata": {},
     "output_type": "execute_result"
    }
   ],
   "source": [
    "y_train.mean()"
   ]
  },
  {
   "cell_type": "code",
   "execution_count": 95,
   "id": "1a216aed",
   "metadata": {},
   "outputs": [
    {
     "data": {
      "text/plain": [
       "price    27.788372\n",
       "dtype: float64"
      ]
     },
     "execution_count": 95,
     "metadata": {},
     "output_type": "execute_result"
    }
   ],
   "source": [
    "y_train[labels_train == 0].mean()"
   ]
  },
  {
   "cell_type": "code",
   "execution_count": 96,
   "id": "43e7892e",
   "metadata": {},
   "outputs": [
    {
     "data": {
      "text/plain": [
       "price    16.165354\n",
       "dtype: float64"
      ]
     },
     "execution_count": 96,
     "metadata": {},
     "output_type": "execute_result"
    }
   ],
   "source": [
    "y_train[labels_train == 1].mean()"
   ]
  },
  {
   "cell_type": "code",
   "execution_count": 97,
   "id": "3b336e23",
   "metadata": {},
   "outputs": [
    {
     "data": {
      "text/plain": [
       "price    24.958115\n",
       "dtype: float64"
      ]
     },
     "execution_count": 97,
     "metadata": {},
     "output_type": "execute_result"
    }
   ],
   "source": [
    "y_train[labels_train == 2].mean()"
   ]
  },
  {
   "cell_type": "code",
   "execution_count": 98,
   "id": "171cf24a",
   "metadata": {},
   "outputs": [
    {
     "data": {
      "text/plain": [
       "0.07356558139534886"
      ]
     },
     "execution_count": 98,
     "metadata": {},
     "output_type": "execute_result"
    }
   ],
   "source": [
    "X_train.loc[labels_train == 0, 'CRIM'].mean()"
   ]
  },
  {
   "cell_type": "code",
   "execution_count": 36,
   "id": "52558a2a",
   "metadata": {},
   "outputs": [],
   "source": [
    "labels_test = kmeans.predict(X_test_scaled)"
   ]
  },
  {
   "cell_type": "code",
   "execution_count": 37,
   "id": "f3a50ec9",
   "metadata": {},
   "outputs": [
    {
     "data": {
      "text/plain": [
       "price    27.788372\n",
       "dtype: float64"
      ]
     },
     "execution_count": 37,
     "metadata": {},
     "output_type": "execute_result"
    }
   ],
   "source": [
    "y_train[labels_train == 0].mean()"
   ]
  },
  {
   "cell_type": "code",
   "execution_count": 38,
   "id": "c5c5aa2a",
   "metadata": {},
   "outputs": [
    {
     "data": {
      "text/plain": [
       "price    16.165354\n",
       "dtype: float64"
      ]
     },
     "execution_count": 38,
     "metadata": {},
     "output_type": "execute_result"
    }
   ],
   "source": [
    "y_train[labels_train == 1].mean()"
   ]
  },
  {
   "cell_type": "code",
   "execution_count": 39,
   "id": "a85a7219",
   "metadata": {},
   "outputs": [
    {
     "data": {
      "text/plain": [
       "price    24.958115\n",
       "dtype: float64"
      ]
     },
     "execution_count": 39,
     "metadata": {},
     "output_type": "execute_result"
    }
   ],
   "source": [
    "y_train[labels_train == 2].mean()"
   ]
  },
  {
   "cell_type": "code",
   "execution_count": 40,
   "id": "c342d90f",
   "metadata": {},
   "outputs": [
    {
     "data": {
      "text/plain": [
       "0.07356558139534886"
      ]
     },
     "execution_count": 40,
     "metadata": {},
     "output_type": "execute_result"
    }
   ],
   "source": [
    "X_train.loc[labels_train == 0, 'CRIM'].mean()"
   ]
  },
  {
   "cell_type": "code",
   "execution_count": 41,
   "id": "82542294",
   "metadata": {},
   "outputs": [
    {
     "data": {
      "text/plain": [
       "10.797028425196853"
      ]
     },
     "execution_count": 41,
     "metadata": {},
     "output_type": "execute_result"
    }
   ],
   "source": [
    "X_train.loc[labels_train == 1, 'CRIM'].mean()"
   ]
  },
  {
   "cell_type": "code",
   "execution_count": 42,
   "id": "66d88a59",
   "metadata": {},
   "outputs": [
    {
     "data": {
      "text/plain": [
       "0.42166020942408367"
      ]
     },
     "execution_count": 42,
     "metadata": {},
     "output_type": "execute_result"
    }
   ],
   "source": [
    "X_train.loc[labels_train == 2, 'CRIM'].mean()"
   ]
  },
  {
   "cell_type": "code",
   "execution_count": 45,
   "id": "01a67010",
   "metadata": {},
   "outputs": [
    {
     "name": "stdout",
     "output_type": "stream",
     "text": [
      "Кластер 0, признак CRIM: 0.07356558139534886\n",
      "Кластер 1, признак CRIM: 10.797028425196853\n",
      "Кластер 2, признак CRIM: 0.42166020942408367\n"
     ]
    }
   ],
   "source": [
    "print('Кластер 0, признак CRIM: {}'.format(X_train.loc[labels_train == 0, 'CRIM'].mean()))\n",
    "print('Кластер 1, признак CRIM: {}'.format(X_train.loc[labels_train == 1, 'CRIM'].mean()))\n",
    "print('Кластер 2, признак CRIM: {}'.format(X_train.loc[labels_train == 2, 'CRIM'].mean()))"
   ]
  },
  {
   "cell_type": "code",
   "execution_count": 49,
   "id": "a28804fc",
   "metadata": {},
   "outputs": [],
   "source": [
    "labels_test = kmeans.fit_predict(X_test_scaled)"
   ]
  },
  {
   "cell_type": "code",
   "execution_count": 50,
   "id": "0c4c2d98",
   "metadata": {},
   "outputs": [],
   "source": [
    "X_test_tsne = tsne.fit_transform(X_test_scaled)"
   ]
  },
  {
   "cell_type": "code",
   "execution_count": 117,
   "id": "61f06dcc",
   "metadata": {
    "scrolled": true
   },
   "outputs": [
    {
     "data": {
      "image/png": "[encoded data removed]",
      "text/plain": [
       "<Figure size 432x288 with 1 Axes>"
      ]
     },
     "metadata": {
      "needs_background": "light"
     },
     "output_type": "display_data"
    }
   ],
   "source": [
    "kmeans = KMeans(n_clusters = 3, max_iter = 100, random_state = 42)\n",
    "labels_train = kmeans.fit_predict(X_train_scaled)\n",
    "centers = scaler.inverse_transform(kmeans.cluster_centers_)\n",
    "plt.scatter(centers[:, 0], centers[:, 1], marker='D', color='red')\n",
    "plt.scatter(X_test_tsne[:, 0], X_test_tsne[:, 1], c = labels_test)\n",
    "plt.show()"
   ]
  },
  {
   "cell_type": "code",
   "execution_count": 52,
   "id": "1b08f415",
   "metadata": {},
   "outputs": [
    {
     "name": "stdout",
     "output_type": "stream",
     "text": [
      "Кластер 0, признак CRIM: 0.08618571428571427\n",
      "Кластер 1, признак CRIM: 0.25200716981132076\n",
      "Кластер 2, признак CRIM: 10.165531142857143\n"
     ]
    }
   ],
   "source": [
    "print('Кластер 0, признак CRIM: {}'.format(X_test.loc[labels_test == 0, 'CRIM'].mean()))\n",
    "print('Кластер 1, признак CRIM: {}'.format(X_test.loc[labels_test == 1, 'CRIM'].mean()))\n",
    "print('Кластер 2, признак CRIM: {}'.format(X_test.loc[labels_test == 2, 'CRIM'].mean()))"
   ]
  },
  {
   "cell_type": "code",
   "execution_count": 59,
   "id": "40c9a600",
   "metadata": {},
   "outputs": [
    {
     "data": {
      "text/plain": [
       "price    33.871429\n",
       "dtype: float64"
      ]
     },
     "execution_count": 59,
     "metadata": {},
     "output_type": "execute_result"
    }
   ],
   "source": [
    "y_test[labels_test == 0].mean()"
   ]
  },
  {
   "cell_type": "code",
   "execution_count": 60,
   "id": "e567cdf2",
   "metadata": {},
   "outputs": [
    {
     "data": {
      "text/plain": [
       "price    21.55283\n",
       "dtype: float64"
      ]
     },
     "execution_count": 60,
     "metadata": {},
     "output_type": "execute_result"
    }
   ],
   "source": [
    "y_test[labels_test == 1].mean()"
   ]
  },
  {
   "cell_type": "code",
   "execution_count": 61,
   "id": "94e7a717",
   "metadata": {},
   "outputs": [
    {
     "data": {
      "text/plain": [
       "price    16.437143\n",
       "dtype: float64"
      ]
     },
     "execution_count": 61,
     "metadata": {},
     "output_type": "execute_result"
    }
   ],
   "source": [
    "y_test[labels_test == 2].mean()"
   ]
  },
  {
   "cell_type": "code",
   "execution_count": 107,
   "id": "f37a5e3d",
   "metadata": {
    "scrolled": true
   },
   "outputs": [
    {
     "data": {
      "text/plain": [
       "array([1, 0, 2, 1, 2, 1, 1, 2, 2, 1, 1, 1, 2, 1, 1, 2, 1, 2, 0, 2, 1, 0,\n",
       "       1, 1, 2, 2, 1, 2, 1, 1, 1, 1, 2, 2, 2, 2, 1, 1, 1, 1, 1, 1, 0, 1,\n",
       "       1, 2, 1, 1, 2, 1, 1, 0, 1, 1, 0, 2, 2, 0, 1, 1, 0, 0, 1, 1, 0, 1,\n",
       "       2, 1, 0, 2, 1, 2, 2, 0, 1, 2, 1, 0, 2, 2, 1, 2, 0, 2, 1, 1, 2, 1,\n",
       "       1, 1, 1, 2, 1, 1, 2, 1, 2, 2, 2, 2, 1, 1])"
      ]
     },
     "execution_count": 107,
     "metadata": {},
     "output_type": "execute_result"
    }
   ],
   "source": [
    "labels_test\n"
   ]
  },
  {
   "cell_type": "code",
   "execution_count": 106,
   "id": "c2f2d830",
   "metadata": {},
   "outputs": [
    {
     "data": {
      "text/plain": [
       "404"
      ]
     },
     "execution_count": 106,
     "metadata": {},
     "output_type": "execute_result"
    }
   ],
   "source": [
    "labels_train.size"
   ]
  },
  {
   "cell_type": "code",
   "execution_count": null,
   "id": "8ebcac81",
   "metadata": {},
   "outputs": [],
   "source": []
  }
 ],
 "metadata": {
  "kernelspec": {
   "display_name": "Python 3",
   "language": "python",
   "name": "python3"
  },
  "language_info": {
   "codemirror_mode": {
    "name": "ipython",
    "version": 3
   },
   "file_extension": ".py",
   "mimetype": "text/x-python",
   "name": "python",
   "nbconvert_exporter": "python",
   "pygments_lexer": "ipython3",
   "version": "3.8.8"
  }
 },
 "nbformat": 4,
 "nbformat_minor": 5
}
